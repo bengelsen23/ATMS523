{
 "cells": [
  {
   "cell_type": "markdown",
   "metadata": {},
   "source": [
    "# ATMS 523 Module 5 Homework\n",
    " - B. Engelsen 10/29/22\n",
    "\n",
    "#### References\n",
    "Radar Data consists of measurements from several years in Huntsville, Alabama\n",
    "\n",
    "Features (radar measurements):\n",
    "- `Zh` - radar reflectivity factor (dBZ) - use the formula $dBZ = 10\\log_{10}(Z)$\n",
    "- `Zdr` - differential reflectivity\n",
    "- `Ldr` - linear depolarization ratio\n",
    "- `Kdp` - specific differential phase\n",
    "- `Ah` - specific attenuation\n",
    "- `Adp` - differential attenuation\n",
    "\n",
    "Target :\n",
    "- `R` - rain rate\n",
    "\n",
    "Marshal-Palmer Model:\n",
    "`Zh` - radar reflectivity factor (dBZ) - use the formula \n",
    "\n",
    "$dBZ = 10\\log_{10}(Z)$\n",
    "\n",
    "$Z = 200 R^{1.6}$"
   ]
  },
  {
   "cell_type": "markdown",
   "metadata": {},
   "source": [
    "# Read in packages"
   ]
  },
  {
   "cell_type": "code",
   "execution_count": 85,
   "metadata": {},
   "outputs": [],
   "source": [
    "# import seaborn as sb\n",
    "import xarray as xr\n",
    "import numpy as np\n",
    "from glob import glob as gg\n",
    "import os\n",
    "import urllib.request # module for downloading data from URLs\n",
    "import s3fs\n",
    "import fsspec\n",
    "import dask\n",
    "from dask.distributed import performance_report, Client, progress\n",
    "import pandas as pd\n",
    "from matplotlib import pyplot as plt\n",
    "import cartopy.crs as ccrs \n",
    "from matplotlib.dates import (YEARLY, DateFormatter,rrulewrapper, RRuleLocator, drange)\n",
    "import datetime as dt\n",
    "import chardet\n",
    "from pandas.tseries.offsets import MonthEnd\n",
    "%matplotlib inline\n",
    "import cartopy.crs as ccrs\n",
    "import cartopy.feature as cfeature\n",
    "from cartopy import config\n",
    "from cartopy.mpl.gridliner import LONGITUDE_FORMATTER, LATITUDE_FORMATTER\n",
    "from netCDF4 import Dataset\n",
    "import h5py\n",
    "import eofs\n",
    "from eofs.xarray import Eof\n",
    "from eofs.examples import example_data_path\n",
    "%matplotlib inline\n",
    "import matplotlib.pyplot as plt\n",
    "import seaborn as sns; sns.set()\n",
    "import numpy as np\n",
    "from sklearn.linear_model import LinearRegression\n",
    "from sklearn.metrics import mean_squared_error\n",
    "import statsmodels.api as sm\n",
    "import sklearn.metrics as metrics\n",
    "import wradlib as wrl"
   ]
  },
  {
   "cell_type": "markdown",
   "metadata": {},
   "source": [
    "# Read in radar data using pandas"
   ]
  },
  {
   "cell_type": "code",
   "execution_count": 3,
   "metadata": {},
   "outputs": [],
   "source": [
    "Radar_data = pd.read_csv('/Users/Bryan.Engelsen/Documents/GitHub/ATMS523/machine-learning-1-bengelsen23/homework/radar_parameters.csv')"
   ]
  },
  {
   "cell_type": "code",
   "execution_count": 4,
   "metadata": {},
   "outputs": [
    {
     "data": {
      "text/html": [
       "<div>\n",
       "<style scoped>\n",
       "    .dataframe tbody tr th:only-of-type {\n",
       "        vertical-align: middle;\n",
       "    }\n",
       "\n",
       "    .dataframe tbody tr th {\n",
       "        vertical-align: top;\n",
       "    }\n",
       "\n",
       "    .dataframe thead th {\n",
       "        text-align: right;\n",
       "    }\n",
       "</style>\n",
       "<table border=\"1\" class=\"dataframe\">\n",
       "  <thead>\n",
       "    <tr style=\"text-align: right;\">\n",
       "      <th></th>\n",
       "      <th>Unnamed: 0</th>\n",
       "      <th>Zh (dBZ)</th>\n",
       "      <th>Zdr (dB)</th>\n",
       "      <th>Ldr (dB)</th>\n",
       "      <th>Kdp (deg km-1)</th>\n",
       "      <th>Ah (dBZ/km)</th>\n",
       "      <th>Adr (dB/km)</th>\n",
       "      <th>R (mm/hr)</th>\n",
       "    </tr>\n",
       "  </thead>\n",
       "  <tbody>\n",
       "    <tr>\n",
       "      <th>0</th>\n",
       "      <td>0</td>\n",
       "      <td>23.144878</td>\n",
       "      <td>0.418637</td>\n",
       "      <td>-41.757733</td>\n",
       "      <td>0.005395</td>\n",
       "      <td>0.000290</td>\n",
       "      <td>0.000012</td>\n",
       "      <td>2.393520</td>\n",
       "    </tr>\n",
       "    <tr>\n",
       "      <th>1</th>\n",
       "      <td>1</td>\n",
       "      <td>22.737156</td>\n",
       "      <td>0.322850</td>\n",
       "      <td>-43.772069</td>\n",
       "      <td>0.005194</td>\n",
       "      <td>0.000360</td>\n",
       "      <td>0.000012</td>\n",
       "      <td>3.502699</td>\n",
       "    </tr>\n",
       "    <tr>\n",
       "      <th>2</th>\n",
       "      <td>2</td>\n",
       "      <td>26.869826</td>\n",
       "      <td>0.330948</td>\n",
       "      <td>-43.577399</td>\n",
       "      <td>0.013385</td>\n",
       "      <td>0.000903</td>\n",
       "      <td>0.000030</td>\n",
       "      <td>8.627561</td>\n",
       "    </tr>\n",
       "    <tr>\n",
       "      <th>3</th>\n",
       "      <td>3</td>\n",
       "      <td>28.540561</td>\n",
       "      <td>0.399480</td>\n",
       "      <td>-42.139731</td>\n",
       "      <td>0.018872</td>\n",
       "      <td>0.001036</td>\n",
       "      <td>0.000043</td>\n",
       "      <td>8.424447</td>\n",
       "    </tr>\n",
       "    <tr>\n",
       "      <th>4</th>\n",
       "      <td>4</td>\n",
       "      <td>30.500127</td>\n",
       "      <td>0.543758</td>\n",
       "      <td>-39.763087</td>\n",
       "      <td>0.027438</td>\n",
       "      <td>0.001157</td>\n",
       "      <td>0.000064</td>\n",
       "      <td>8.189291</td>\n",
       "    </tr>\n",
       "  </tbody>\n",
       "</table>\n",
       "</div>"
      ],
      "text/plain": [
       "   Unnamed: 0   Zh (dBZ)  Zdr (dB)   Ldr (dB)  Kdp (deg km-1)  Ah (dBZ/km)  \\\n",
       "0           0  23.144878  0.418637 -41.757733        0.005395     0.000290   \n",
       "1           1  22.737156  0.322850 -43.772069        0.005194     0.000360   \n",
       "2           2  26.869826  0.330948 -43.577399        0.013385     0.000903   \n",
       "3           3  28.540561  0.399480 -42.139731        0.018872     0.001036   \n",
       "4           4  30.500127  0.543758 -39.763087        0.027438     0.001157   \n",
       "\n",
       "   Adr (dB/km)  R (mm/hr)  \n",
       "0     0.000012   2.393520  \n",
       "1     0.000012   3.502699  \n",
       "2     0.000030   8.627561  \n",
       "3     0.000043   8.424447  \n",
       "4     0.000064   8.189291  "
      ]
     },
     "execution_count": 4,
     "metadata": {},
     "output_type": "execute_result"
    }
   ],
   "source": [
    "Radar_data.head()"
   ]
  },
  {
   "cell_type": "code",
   "execution_count": 5,
   "metadata": {},
   "outputs": [],
   "source": [
    "Radar_data = Radar_data.drop('Unnamed: 0', axis=1)"
   ]
  },
  {
   "cell_type": "markdown",
   "metadata": {},
   "source": [
    "# EDA"
   ]
  },
  {
   "cell_type": "code",
   "execution_count": 6,
   "metadata": {},
   "outputs": [],
   "source": [
    "# %matplotlib inline\n",
    "# import seaborn as sns; sns.set()\n",
    "# sns.pairplot(Radar_data, hue='R (mm/hr)', height=1.5)"
   ]
  },
  {
   "cell_type": "markdown",
   "metadata": {},
   "source": [
    "# Baseline Prediction"
   ]
  },
  {
   "cell_type": "code",
   "execution_count": 97,
   "metadata": {},
   "outputs": [],
   "source": [
    "#Solve for R \n",
    "R_base_old = ((10**(Radar_data['Zh (dBZ)']/10))/200)**1/1.6\n",
    "Z = wrl.trafo.idecibel(Radar_data['Zh (dBZ)'])\n",
    "R_base = wrl.zr.z_to_r(Z, a=200.0, b=1.6)"
   ]
  },
  {
   "cell_type": "markdown",
   "metadata": {},
   "source": [
    "# Split data"
   ]
  },
  {
   "cell_type": "code",
   "execution_count": 8,
   "metadata": {},
   "outputs": [],
   "source": [
    "X_radar = Radar_data.drop('R (mm/hr)', axis=1)\n",
    "# X_iris.shape\n",
    "y_radar = Radar_data['R (mm/hr)']\n",
    "# y_iris.shape\n",
    "\n",
    "# X = features, predictors\n",
    "# y = label, predictand, target"
   ]
  },
  {
   "cell_type": "code",
   "execution_count": 9,
   "metadata": {},
   "outputs": [],
   "source": [
    "from sklearn.model_selection import train_test_split\n",
    "Xtrain, Xtest, ytrain, ytest = train_test_split(X_radar, y_radar,\n",
    "                                                test_size=0.30, random_state=12)\n",
    "\n",
    "# X = features, predictors\n",
    "# y = label, predictand, target"
   ]
  },
  {
   "cell_type": "markdown",
   "metadata": {},
   "source": [
    "# Import model from Scikit Learn"
   ]
  },
  {
   "cell_type": "code",
   "execution_count": 10,
   "metadata": {},
   "outputs": [],
   "source": [
    "from sklearn.linear_model import LinearRegression   # 1. choose model class\n",
    "model = LinearRegression(fit_intercept=True)        # 2. instantiate model\n",
    "model.fit(Xtrain, ytrain)                           # 3. fit model to data\n",
    "ymodel = model.predict(Xtest)                       # 4. predict on new data\n",
    "\n",
    "# X = features, predictors\n",
    "# y = label, predictand, target"
   ]
  },
  {
   "cell_type": "code",
   "execution_count": 66,
   "metadata": {},
   "outputs": [],
   "source": [
    "# model.coef_\n",
    "# model.intercept_"
   ]
  },
  {
   "cell_type": "code",
   "execution_count": 14,
   "metadata": {},
   "outputs": [
    {
     "name": "stdout",
     "output_type": "stream",
     "text": [
      "Mean Absolute Error: 0.55 degrees.\n",
      "Testing Accuracy: 86.93 %.\n"
     ]
    },
    {
     "data": {
      "image/png": "[encoded data removed]",
      "text/plain": [
       "<Figure size 640x480 with 1 Axes>"
      ]
     },
     "metadata": {},
     "output_type": "display_data"
    }
   ],
   "source": [
    "# Adapted from https://www.kaggle.com/code/arjunshakdher/data-mining-ml-using-air-quality-data/notebook\n",
    "\n",
    "errors = abs(ymodel - ytest)\n",
    "# Display the performance metrics\n",
    "print('Mean Absolute Error:', round(np.mean(errors), 2), 'degrees.')\n",
    "# Calculate mean absolute percentage error (MAPE)\n",
    "mape = 100 * (errors / ytest)\n",
    "# Calculate and display accuracy\n",
    "accuracy = 100 - np.mean(mape)\n",
    "print('Testing Accuracy:', round(accuracy, 2), '%.')\n",
    " \n",
    "# Build a plot\n",
    "plt.scatter(ymodel, ytest)\n",
    "plt.xlabel('Rain (mm/hr) Prediction')\n",
    "plt.ylabel('Rain (mm/hr) Real value')\n",
    "\n",
    "# Now add the perfect prediction line\n",
    "diagonal = np.linspace(0, np.max(ytest), 100)\n",
    "plt.plot(diagonal, diagonal, '-r')\n",
    "plt.show()"
   ]
  },
  {
   "cell_type": "markdown",
   "metadata": {},
   "source": [
    "# Model Statistics Relative to Testing Dataset"
   ]
  },
  {
   "cell_type": "code",
   "execution_count": 15,
   "metadata": {},
   "outputs": [
    {
     "name": "stdout",
     "output_type": "stream",
     "text": [
      "Results of sklearn.metrics for comparison to Regression Model:\n",
      "R^2 =  0.9894849499729809\n",
      "RMSE =  0.8607804980876644\n"
     ]
    }
   ],
   "source": [
    "print(\"Results of sklearn.metrics for comparison to Regression Model:\")\n",
    "print('R^2 = ',model.score(Xtest, ytest))\n",
    "print('RMSE = ',mean_squared_error(ytest, ymodel,squared=False))"
   ]
  },
  {
   "cell_type": "markdown",
   "metadata": {},
   "source": [
    "Model Statistics Relative to Marshal-Palmer Baseline Empirical Model"
   ]
  },
  {
   "cell_type": "code",
   "execution_count": 99,
   "metadata": {},
   "outputs": [
    {
     "name": "stdout",
     "output_type": "stream",
     "text": [
      "Results of sklearn.metrics for comparison to Marshall-Palmer:\n",
      "R-Squared: 0.3023229070437503\n",
      "RMSE: 7.157590840042378\n"
     ]
    }
   ],
   "source": [
    "# calculate manually\n",
    "# d = y_radar - R_base\n",
    "# mse_f = np.mean(d**2)\n",
    "# mae_f = np.mean(abs(d))\n",
    "# rmse_f = np.sqrt(mse_f)\n",
    "# r2_f = 1-(sum(d**2)/sum((y_radar-np.mean(y_radar))**2))\n",
    "\n",
    "mae = metrics.mean_absolute_error(y_radar, R_base)\n",
    "mse = metrics.mean_squared_error(y_radar, R_base)\n",
    "rmse = np.sqrt(mse) # or mse**(0.5)  \n",
    "r2 = metrics.r2_score(y_radar,R_base)\n",
    "\n",
    "print(\"Results of sklearn.metrics for comparison to Marshall-Palmer:\")\n",
    "# print(\"MAE:\",mae)\n",
    "# print(\"MSE:\", mse)\n",
    "print(\"R-Squared:\", r2)\n",
    "print(\"RMSE:\", rmse)\n"
   ]
  },
  {
   "cell_type": "markdown",
   "metadata": {},
   "source": [
    "# Repeat doing a grid search over polynomial orders, using a grid search over orders 0-21, and use cross-validation of 7 folds."
   ]
  },
  {
   "cell_type": "code",
   "execution_count": 17,
   "metadata": {},
   "outputs": [],
   "source": [
    "from sklearn.preprocessing import PolynomialFeatures\n",
    "from sklearn.linear_model import LinearRegression\n",
    "from sklearn.pipeline import make_pipeline\n",
    "\n",
    "def PolynomialRegression(degree=7, **kwargs):\n",
    "    return make_pipeline(PolynomialFeatures(degree),\n",
    "                         LinearRegression(**kwargs))\n",
    "\n",
    "# model_poly = make_pipeline(PolynomialFeatures(degree=7),LinearRegression())\n",
    "# ytest = model_poly.fit(Xtrain,ytrain).predict(Xtest)"
   ]
  },
  {
   "cell_type": "code",
   "execution_count": 18,
   "metadata": {},
   "outputs": [
    {
     "data": {
      "text/plain": [
       "Text(0, 0.5, 'score')"
      ]
     },
     "execution_count": 18,
     "metadata": {},
     "output_type": "execute_result"
    },
    {
     "data": {
      "image/png": "[encoded data removed]",
      "text/plain": [
       "<Figure size 640x480 with 1 Axes>"
      ]
     },
     "metadata": {},
     "output_type": "display_data"
    }
   ],
   "source": [
    "from sklearn.model_selection import validation_curve\n",
    "degree = np.arange(0, 7)\n",
    "train_score, val_score = validation_curve(PolynomialRegression(degree), Xtrain, ytrain,\n",
    "                                          param_name='polynomialfeatures__degree', param_range=degree, cv=7)\n",
    "\n",
    "plt.plot(degree, np.median(train_score, 1), color='blue', label='training score')\n",
    "plt.plot(degree, np.median(val_score, 1), color='red', label='validation score')\n",
    "plt.legend(loc='best')\n",
    "plt.ylim(0, 2)\n",
    "plt.xlabel('degree')\n",
    "plt.ylabel('score')"
   ]
  },
  {
   "cell_type": "code",
   "execution_count": 19,
   "metadata": {},
   "outputs": [],
   "source": [
    "model2 = PolynomialRegression(1)\n",
    "ymodel2 = model2.fit(Xtrain, ytrain).predict(Xtest)"
   ]
  },
  {
   "cell_type": "code",
   "execution_count": 100,
   "metadata": {},
   "outputs": [
    {
     "name": "stdout",
     "output_type": "stream",
     "text": [
      "Results of sklearn.metrics for comparison to Regression Model:\n",
      "R^2 =  0.9894849499729809\n",
      "RMSE =  0.8607804980876644\n",
      "Results of sklearn.metrics for comparison to Marshall-Palmer:\n",
      "RMSE: 7.157590840042378\n",
      "R-Squared: 0.3023229070437503\n",
      "Results of sklearn.metrics for comparison to Polynomial Regression Model:\n",
      "R^2 =  0.9894849499729806\n",
      "RMSE =  0.8607804980876731\n"
     ]
    }
   ],
   "source": [
    "print(\"Results of sklearn.metrics for comparison to Regression Model:\")\n",
    "print('R^2 = ',model.score(Xtest, ytest))\n",
    "print('RMSE = ',mean_squared_error(ytest, ymodel,squared=False))\n",
    "\n",
    "print(\"Results of sklearn.metrics for comparison to Marshall-Palmer:\")\n",
    "# print(\"MAE:\",mae)\n",
    "# print(\"MSE:\", mse)\n",
    "print(\"RMSE:\", rmse)\n",
    "print(\"R-Squared:\", r2)\n",
    "\n",
    "print(\"Results of sklearn.metrics for comparison to Polynomial Regression Model:\")\n",
    "print('R^2 = ', model2.score(Xtest, ytest))\n",
    "print('RMSE = ',mean_squared_error(ytest, ymodel2,squared=False))"
   ]
  },
  {
   "cell_type": "markdown",
   "metadata": {},
   "source": [
    "# Using Random Forrect Regressor to predict Rain rate with Parameter Grid Search"
   ]
  },
  {
   "cell_type": "code",
   "execution_count": 21,
   "metadata": {},
   "outputs": [
    {
     "name": "stdout",
     "output_type": "stream",
     "text": [
      "Fitting 2 folds for each of 1 candidates, totalling 2 fits\n"
     ]
    },
    {
     "name": "stderr",
     "output_type": "stream",
     "text": [
      "c:\\ProgramData\\Anaconda3\\lib\\site-packages\\sklearn\\ensemble\\_forest.py:416: FutureWarning: `max_features='auto'` has been deprecated in 1.1 and will be removed in 1.3. To keep the past behaviour, explicitly set `max_features=1.0` or remove this parameter as it is also the default value for RandomForestRegressors and ExtraTreesRegressors.\n",
      "  warn(\n"
     ]
    }
   ],
   "source": [
    "#adapted from https://towardsdatascience.com/hyperparameter-tuning-the-random-forest-in-python-using-scikit-learn-28d2aa77dd74\n",
    "\n",
    "from sklearn.ensemble import RandomForestRegressor\n",
    "from sklearn.model_selection import RandomizedSearchCV\n",
    "\n",
    "random_grid = {'bootstrap': [True, False],  \n",
    "'max_depth': [10, 20, 30, 40, 50, 60, 70, 80, 90, 100, None],  \n",
    "'max_features': ['auto', 'sqrt'],  \n",
    "'min_samples_leaf': [1, 2, 4],  \n",
    "'min_samples_split': [2, 5, 10],  \n",
    "'n_estimators': [200, 400, 600, 800, 1000, 1200, 1400, 1600, 1800, 2000]}\n",
    "\n",
    "model_rf = RandomForestRegressor()\n",
    "rf_random = RandomizedSearchCV(estimator = model_rf, param_distributions = random_grid, n_iter = 1, cv = 2, verbose=2, random_state=12, n_jobs = -1)\n",
    "# Fit the random search model\n",
    "model3 = rf_random.fit(Xtrain, ytrain)"
   ]
  },
  {
   "cell_type": "code",
   "execution_count": 22,
   "metadata": {},
   "outputs": [],
   "source": [
    "ymodel3 = model3.predict(Xtest)"
   ]
  },
  {
   "cell_type": "code",
   "execution_count": 101,
   "metadata": {},
   "outputs": [
    {
     "name": "stdout",
     "output_type": "stream",
     "text": [
      "Results of sklearn.metrics for comparison to Regression Model:\n",
      "R^2 =  0.9894849499729809\n",
      "RMSE =  0.8607804980876644\n",
      "Results of sklearn.metrics for comparison to Marshall-Palmer:\n",
      "RMSE: 7.157590840042378\n",
      "R-Squared: 0.3023229070437503\n",
      "Results of sklearn.metrics for comparison to Polynomial Regression Model:\n",
      "R^2 =  0.9894849499729806\n",
      "RMSE =  0.8607804980876731\n",
      "Results of sklearn.metrics for comparison to Random Forrest Regression Model:\n",
      "R^2 =  0.9804771241608146\n",
      "RMSE =  1.1728936729534252\n"
     ]
    }
   ],
   "source": [
    "print(\"Results of sklearn.metrics for comparison to Regression Model:\")\n",
    "print('R^2 = ',model.score(Xtest, ytest))\n",
    "print('RMSE = ',mean_squared_error(ytest, ymodel,squared=False))\n",
    "\n",
    "print(\"Results of sklearn.metrics for comparison to Marshall-Palmer:\")\n",
    "# print(\"MAE:\",mae)\n",
    "# print(\"MSE:\", mse)\n",
    "print(\"RMSE:\", rmse)\n",
    "print(\"R-Squared:\", r2)\n",
    "\n",
    "print(\"Results of sklearn.metrics for comparison to Polynomial Regression Model:\")\n",
    "print('R^2 = ', model2.score(Xtest, ytest))\n",
    "print('RMSE = ',mean_squared_error(ytest, ymodel2,squared=False))\n",
    "\n",
    "print(\"Results of sklearn.metrics for comparison to Random Forrest Regression Model:\")\n",
    "print('R^2 = ',model3.score(Xtest, ytest))\n",
    "print('RMSE = ',mean_squared_error(ytest, ymodel3, squared=False))"
   ]
  },
  {
   "cell_type": "code",
   "execution_count": null,
   "metadata": {},
   "outputs": [],
   "source": [
    "# print(random_grid)"
   ]
  }
 ],
 "metadata": {
  "kernelspec": {
   "display_name": "Python 3.9.13 ('base')",
   "language": "python",
   "name": "python3"
  },
  "language_info": {
   "codemirror_mode": {
    "name": "ipython",
    "version": 3
   },
   "file_extension": ".py",
   "mimetype": "text/x-python",
   "name": "python",
   "nbconvert_exporter": "python",
   "pygments_lexer": "ipython3",
   "version": "3.9.13"
  },
  "orig_nbformat": 4,
  "vscode": {
   "interpreter": {
    "hash": "ad2bdc8ecc057115af97d19610ffacc2b4e99fae6737bb82f5d7fb13d2f2c186"
   }
  }
 },
 "nbformat": 4,
 "nbformat_minor": 2
}
