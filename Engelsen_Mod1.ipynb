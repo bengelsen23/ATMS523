{
 "cells": [
  {
   "cell_type": "markdown",
   "id": "7ad2bfe3",
   "metadata": {},
   "source": [
    "## Create Function for ATMS 523 Module 1\n",
    "- B. Engelsen\n",
    "- Original 8/31/22"
   ]
  },
  {
   "cell_type": "markdown",
   "id": "a495a329",
   "metadata": {},
   "source": [
    "### 1. Import packages"
   ]
  },
  {
   "cell_type": "code",
   "execution_count": 2,
   "id": "returning-excerpt",
   "metadata": {},
   "outputs": [],
   "source": [
    "import numpy as np"
   ]
  },
  {
   "cell_type": "markdown",
   "id": "0a2074ce",
   "metadata": {},
   "source": [
    "### 2. Create array called temp"
   ]
  },
  {
   "cell_type": "code",
   "execution_count": 3,
   "id": "instructional-blank",
   "metadata": {},
   "outputs": [],
   "source": [
    "temp = np.array([20.4,21.6,19.8,22.2])"
   ]
  },
  {
   "cell_type": "markdown",
   "id": "f42efd00",
   "metadata": {},
   "source": [
    "### 3. Calculate max value from temp array"
   ]
  },
  {
   "cell_type": "code",
   "execution_count": 4,
   "id": "enabling-postcard",
   "metadata": {},
   "outputs": [
    {
     "name": "stdout",
     "output_type": "stream",
     "text": [
      "The max value is 22.2\n"
     ]
    }
   ],
   "source": [
    "max_value = np.max(temp)\n",
    "\n",
    "print('The max value is', max_value)"
   ]
  },
  {
   "cell_type": "markdown",
   "id": "c65a7930",
   "metadata": {},
   "source": [
    "### 4. Calculate the average value from temp array"
   ]
  },
  {
   "cell_type": "code",
   "execution_count": 5,
   "id": "81eb9aab",
   "metadata": {},
   "outputs": [
    {
     "name": "stdout",
     "output_type": "stream",
     "text": [
      "The mean value is 21.0\n"
     ]
    }
   ],
   "source": [
    "mean_value = np.mean(temp)\n",
    "\n",
    "print('The mean value is', mean_value)"
   ]
  },
  {
   "cell_type": "code",
   "execution_count": null,
   "id": "46b22492",
   "metadata": {},
   "outputs": [],
   "source": []
  }
 ],
 "metadata": {
  "kernelspec": {
   "display_name": "Python 3.10.0 ('py3')",
   "language": "python",
   "name": "python3"
  },
  "language_info": {
   "codemirror_mode": {
    "name": "ipython",
    "version": 3
   },
   "file_extension": ".py",
   "mimetype": "text/x-python",
   "name": "python",
   "nbconvert_exporter": "python",
   "pygments_lexer": "ipython3",
   "version": "3.10.0"
  },
  "vscode": {
   "interpreter": {
    "hash": "6b93b4a756af8de72bc66c3272ff4d9537ab8c6e0af33f684db5e10bdeb61149"
   }
  }
 },
 "nbformat": 4,
 "nbformat_minor": 5
}
